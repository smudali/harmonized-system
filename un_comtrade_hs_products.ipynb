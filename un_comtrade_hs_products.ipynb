{
 "cells": [
  {
   "cell_type": "code",
   "execution_count": 1,
   "id": "a23b1fe1-e4a5-4d59-b980-8c29be1ab807",
   "metadata": {},
   "outputs": [],
   "source": [
    "# import sys\n",
    "# !{sys.executable} -m pip install --upgrade pip\n",
    "# !{sys.executable} -m pip install --upgrade watermark\n",
    "# !{sys.executable} -m pip install --upgrade requests"
   ]
  },
  {
   "cell_type": "markdown",
   "id": "fd103a76-4825-4cc9-b73a-11507d04e5a7",
   "metadata": {},
   "source": [
    "## Constants\n",
    "### Reference: [EmojiDB](https://emojidb.org/) and [Harmonized System (HS) Products](https://oec.world/en/product-landing/hs#5)"
   ]
  },
  {
   "cell_type": "code",
   "execution_count": 2,
   "id": "3861521f-2d99-4775-ba8c-ee63dbc630a7",
   "metadata": {},
   "outputs": [],
   "source": [
    "# Chapter starting posiiton; must be in sequence with section id, e.g. any chapter\n",
    "# starting with 1 and less than 6 has 'I' as the section id\n",
    "CHAPTER_START = [1, 6, 15, 16, 25, 28, 39, 41, 44, 47, 50, 64, 68, 71, 72, 84, 86, 90, 93, 94, 97, 99]\n",
    "SECTION_ID = ['I', 'II', 'III', 'IV', 'V', 'VI', 'VII', 'VIII', 'IX', 'X', 'XI',\n",
    "              'XII', 'XIII', 'XIV', 'XV', 'XVI', 'XVII', 'XVIII', 'XIX', 'XX', 'XXI', 'XXII']\n",
    "SECTION_NAME = ['Animal Products', 'Vegetable Products', 'Animal and Vegetable Bi-Products', \n",
    "               'Foodstuffs', 'Mineral Products', 'Chemical Products', 'Plastics and Rubbers',\n",
    "                'Animal Hides', 'Wood Products', 'Paper Goods', 'Textiles', 'Footwear and Headwear',\n",
    "                'Stone And Glass', 'Precious Metals', 'Metals', 'Machines', 'Transportation',\n",
    "                'Instruments', 'Weapons', 'Miscellaneous', 'Arts and Antiques', 'Unspecified']\n",
    "# Emoji\n",
    "SECTION_EMOJI = ['🐄', '🍅', '🧃', '🌽', '⛏️', '🧪', '♻️', '👜', '🪵', '📖', '👕', '👟', '🪨',\n",
    "                '💎', '🔩', '⚙️', '🚌', '🎻', '💥', '🎒', '🎭', '🤷']\n",
    "# Add a dummy value for chapter start - to simplyfy the when searching chapters for a section\n",
    "CHAPTER_START.append(100)\n",
    "# HS category code - refers to category in reference data, H0 to H6 and HS\n",
    "HS_CATEGORY = 'HS'\n",
    "# Cache file\n",
    "CACHE_FILE = f'cach/{HS_CATEGORY}.json'\n",
    "# Comtrade HS category URL\n",
    "COMTRADE_HS_URL = f'https://comtradeapi.un.org/files/v1/app/reference/{HS_CATEGORY}.json'"
   ]
  },
  {
   "cell_type": "markdown",
   "id": "da0ce1f7-58f8-468a-8162-bf1150fd1058",
   "metadata": {},
   "source": [
    "## Load data from cache or download"
   ]
  },
  {
   "cell_type": "code",
   "execution_count": 3,
   "id": "4fd7b97e-03e2-4c37-9401-a4de9b4c829b",
   "metadata": {},
   "outputs": [],
   "source": [
    "import json\n",
    "import requests\n",
    "from pathlib import Path\n",
    "from typing import Dict, Any\n",
    "\n",
    "def load_and_cache_json(file_name:str, url:str) -> Dict[str, Any] | None:\n",
    "    \"\"\"\n",
    "    Checks for a local JSON file. If found, loads it.\n",
    "    If not found, downloads the data from the URL, saves it locally, and then returns the data.\n",
    "\n",
    "    Args:\n",
    "        file_name: The name of the local file to check/save.\n",
    "        url: The URL to download the JSON data from.\n",
    "\n",
    "    Returns:\n",
    "        The loaded JSON data as a dictionary, or None if an error occurred.\n",
    "    \"\"\"\n",
    "    local_path = Path(file_name)\n",
    "    data = None\n",
    "\n",
    "    # 1. Check for local file\n",
    "    if local_path.is_file():\n",
    "        print(f\"✅ Found local file: '{file_name}'. Loading from cache...\")\n",
    "        try:\n",
    "            with open(local_path, 'r', encoding='utf-8') as f:\n",
    "                data = json.load(f)\n",
    "\n",
    "            print(\"✨ Successfully loaded data from cache.\")\n",
    "            return data\n",
    "\n",
    "        except (json.JSONDecodeError, IOError) as e:\n",
    "            # If the file is corrupted, data remains None, and we proceed to download\n",
    "            print(f\"❌ Error reading/decoding local file: {e}. Attempting download...\")\n",
    "\n",
    "    # Download from URL (if local file was not found, or if corrupted/expired)\n",
    "    if data is None:\n",
    "        print(f\"🌐 Downloading data from URL: {url}...\")\n",
    "        try:\n",
    "            response = requests.get(url, timeout=10)\n",
    "            # Raise an exception for bad status codes (4xx or 5xx)\n",
    "            response.raise_for_status() \n",
    "\n",
    "            downloaded_data = response.json()\n",
    "            # Cache the downloaded data locally for future use\n",
    "            with open(local_path, 'w', encoding='utf-8') as f:\n",
    "                json.dump(downloaded_data, f, indent=4)\n",
    "            \n",
    "            print(f\"💾 Download successful and saved to '{file_name}'.\")\n",
    "            return downloaded_data\n",
    "\n",
    "        except requests.exceptions.RequestException as e:\n",
    "            print(f\"❌ Failed to download data from URL: {e}\")\n",
    "        except json.JSONDecodeError as e:\n",
    "            print(f\"❌ Failed to decode JSON from response: {e}\")\n",
    "        except IOError as e:\n",
    "            print(f\"❌ Failed to save file locally: {e}\")\n",
    "\n",
    "    return None"
   ]
  },
  {
   "cell_type": "code",
   "execution_count": 4,
   "id": "3891c7ef-afa1-446b-bd52-6c6ce1b4c92a",
   "metadata": {},
   "outputs": [
    {
     "name": "stdout",
     "output_type": "stream",
     "text": [
      "🌐 Downloading data from URL: https://comtradeapi.un.org/files/v1/app/reference/HS.json...\n",
      "❌ Failed to save file locally: [Errno 2] No such file or directory: 'cach/HS.json'\n"
     ]
    },
    {
     "ename": "AssertionError",
     "evalue": "❌ data must be present",
     "output_type": "error",
     "traceback": [
      "\u001b[0;31m---------------------------------------------------------------------------\u001b[0m",
      "\u001b[0;31mAssertionError\u001b[0m                            Traceback (most recent call last)",
      "Cell \u001b[0;32mIn[4], line 6\u001b[0m\n\u001b[1;32m      4\u001b[0m data \u001b[38;5;241m=\u001b[39m load_and_cache_json(file_name\u001b[38;5;241m=\u001b[39mCACHE_FILE, url\u001b[38;5;241m=\u001b[39mCOMTRADE_HS_URL)\n\u001b[1;32m      5\u001b[0m \u001b[38;5;66;03m# We must have the data\u001b[39;00m\n\u001b[0;32m----> 6\u001b[0m \u001b[38;5;28;01massert\u001b[39;00m data \u001b[38;5;241m!=\u001b[39m \u001b[38;5;28;01mNone\u001b[39;00m, \u001b[38;5;124m'\u001b[39m\u001b[38;5;124m❌ data must be present\u001b[39m\u001b[38;5;124m'\u001b[39m\n\u001b[1;32m      8\u001b[0m \u001b[38;5;66;03m# Create a DF from JSON data\u001b[39;00m\n\u001b[1;32m      9\u001b[0m hs_df \u001b[38;5;241m=\u001b[39m pd\u001b[38;5;241m.\u001b[39mDataFrame(data[\u001b[38;5;124m'\u001b[39m\u001b[38;5;124mresults\u001b[39m\u001b[38;5;124m'\u001b[39m])\n",
      "\u001b[0;31mAssertionError\u001b[0m: ❌ data must be present"
     ]
    }
   ],
   "source": [
    "import pandas as pd\n",
    "\n",
    "# Load if from cache if present or download it\n",
    "data = load_and_cache_json(file_name=CACHE_FILE, url=COMTRADE_HS_URL)\n",
    "# We must have the data\n",
    "assert data != None, '❌ data must be present'\n",
    "\n",
    "# Create a DF from JSON data\n",
    "hs_df = pd.DataFrame(data['results'])\n",
    "hs_df.head(10)"
   ]
  },
  {
   "cell_type": "markdown",
   "id": "a0ba945e-49ec-404d-ac58-43be897663df",
   "metadata": {},
   "source": [
    "## Clean up the DF"
   ]
  },
  {
   "cell_type": "code",
   "execution_count": null,
   "id": "e3c94e58-af11-49e7-b404-e33711da4397",
   "metadata": {},
   "outputs": [],
   "source": [
    "import re\n",
    "\n",
    "# Drop the row with id as TOTAL\n",
    "rows_to_drop = hs_df[hs_df['id'] == 'TOTAL'].index\n",
    "hs_df.drop(rows_to_drop, inplace=True)\n",
    "\n",
    "# We don't need the standardUnitAbbr column; drop it\n",
    "hs_df.drop('standardUnitAbbr', axis=1, inplace=True)\n",
    "\n",
    "# Pattern to match one or more non-alpha characters at the start\n",
    "pattern = r'^[^a-zA-Z]+'\n",
    "\n",
    "# Remove non alpha characters from text; replace with an empty string\n",
    "hs_df['text'] = hs_df['text'].apply(lambda x: re.sub(pattern, '', x))\n",
    "hs_df.head()"
   ]
  },
  {
   "cell_type": "markdown",
   "id": "abf276af-ba56-4bfc-b41c-d15efd21039a",
   "metadata": {},
   "source": [
    "## Method to get Chapter for a Section"
   ]
  },
  {
   "cell_type": "code",
   "execution_count": null,
   "id": "f49699e6-a504-46a0-9d22-bfca393f03c1",
   "metadata": {},
   "outputs": [],
   "source": [
    "def get_chapter_range_for_section(section:str) -> (int, int):\n",
    "    try:\n",
    "        pos = SECTION_ID.index(section)\n",
    "        return (CHAPTER_START[pos], CHAPTER_START[pos+1] - 1)\n",
    "    except ValueError as e:\n",
    "        print(e)\n",
    "        return (-1, -1)"
   ]
  },
  {
   "cell_type": "markdown",
   "id": "32172d05-e691-4a09-9089-3b70a7181e30",
   "metadata": {},
   "source": [
    "## Method to get Chapter details"
   ]
  },
  {
   "cell_type": "code",
   "execution_count": null,
   "id": "43a3b5d1-0fda-43b8-84fa-c69b7d6eaaa7",
   "metadata": {},
   "outputs": [],
   "source": [
    "def get_chapters_for_section(section:str, df:pd.DataFrame) -> Dict[str, str] | None:\n",
    "    \"\"\"\n",
    "    Returns chapters for a Section if it is found\n",
    "\n",
    "    Args:\n",
    "        section (str): the section name, e.g. I, II etc.\n",
    "        df (DataFrame): the DF containing HS data\n",
    "\n",
    "    Returns:\n",
    "        chapters as a dictionary with id as the key and description as value,\n",
    "        or None if an error occurred.\n",
    "    \"\"\"    \n",
    "    # Get start and end chapters\n",
    "    start, end = get_chapter_range_for_section(section=section)\n",
    "    # check for -1 for invalid chapters\n",
    "    assert start > 0, '❌ invalid chapter'\n",
    "\n",
    "    # List of chapters as HS codes\n",
    "    chapter_hs_codes = []\n",
    "    \n",
    "    # Add 1 to end to include the end chapter\n",
    "    for i in range(start, end+1):\n",
    "        chapter_hs_codes.append(f'{i:02d}')\n",
    "\n",
    "    if len(chapter_hs_codes) > 0:\n",
    "        # Only include the chapters within start and end ranges\n",
    "        result_df = df[df['id'].isin(chapter_hs_codes)][['id', 'text']]\n",
    "        return dict(zip(result_df['id'], result_df['text']))\n",
    "    return None"
   ]
  },
  {
   "cell_type": "markdown",
   "id": "8db7c336-8173-4272-922c-50eb9c49e629",
   "metadata": {},
   "source": [
    "## Lambda functions to format HS codes"
   ]
  },
  {
   "cell_type": "code",
   "execution_count": null,
   "id": "62af4642-76cc-4601-a04c-230eab194664",
   "metadata": {},
   "outputs": [],
   "source": [
    "# Format as 12.34\n",
    "fmt_headings = lambda s: f'{s[:2]}.{s[2:]}'\n",
    "# Format as 12.34.56\n",
    "fmt_sub_headings = lambda s: f'{s[:2]}.{s[2:4]}.{s[4:]}'"
   ]
  },
  {
   "cell_type": "markdown",
   "id": "af1d015f-54cc-4ace-8cf7-d52a27c69b1f",
   "metadata": {},
   "source": [
    "## Lambda functions to display colours\n",
    "### Reference: [Print Colors in Python terminal](https://www.geeksforgeeks.org/python/print-colors-python-terminal/)"
   ]
  },
  {
   "cell_type": "code",
   "execution_count": null,
   "id": "ae06b3bb-ab12-40be-ba1b-95c528c25a37",
   "metadata": {},
   "outputs": [],
   "source": [
    "# Purple for Sections\n",
    "pr_section = lambda s: print(\"\\033[95m {}\\033[00m\".format(s))\n",
    "# Cyan for Chapters\n",
    "pr_chapter = lambda s: print(\"\\033[96m {}\\033[00m\".format(s))\n",
    "# Lighr purple for Headings\n",
    "pr_heading = lambda s: print(\"\\033[94m {}\\033[00m\".format(s))\n",
    "# Green for sub headings\n",
    "pr_sub_heading = lambda s: print(\"\\033[92m {}\\033[00m\".format(s))"
   ]
  },
  {
   "cell_type": "markdown",
   "id": "b58dfa9f-d359-48ee-8708-ef967ca2360f",
   "metadata": {},
   "source": [
    "## Display Section and children details"
   ]
  },
  {
   "cell_type": "code",
   "execution_count": null,
   "id": "ded0c6ae-cc28-4dee-bd1a-1a0409276b64",
   "metadata": {},
   "outputs": [],
   "source": [
    "def display_section_details(section:str, df:pd.DataFrame) -> None:\n",
    "    # if section is missing, the next statement will throw ValueError\n",
    "    pos = SECTION_ID.index(section)\n",
    "    # Get the name and emoji\n",
    "    section_name = SECTION_NAME[pos]\n",
    "    section_emoji = SECTION_EMOJI[pos]\n",
    "    pr_section(f'Section {section} - {section_name} {section_emoji}')\n",
    "    # Get chapter details\n",
    "    chapters = get_chapters_for_section(section=section, df=df)\n",
    "    for key, value in chapters.items():\n",
    "        pr_chapter(f\"{key}: {value}\")"
   ]
  },
  {
   "cell_type": "code",
   "execution_count": null,
   "id": "2bdaacaf-9774-478a-bf4c-3648a961dfe6",
   "metadata": {},
   "outputs": [],
   "source": [
    "display_section_details(section='II', df=hs_df)"
   ]
  },
  {
   "cell_type": "markdown",
   "id": "bb627ea7-a0be-40d0-ac8a-f8f8613d3ded",
   "metadata": {},
   "source": [
    "## Display Chapter and children details"
   ]
  },
  {
   "cell_type": "code",
   "execution_count": null,
   "id": "2f4b78d6-6988-4b32-8eed-581cb5514890",
   "metadata": {},
   "outputs": [],
   "source": [
    "def display_chapter_details(chapter:str, df:pd.DataFrame) -> None:\n",
    "    # Chapter headings\n",
    "    chapter_heading_ser = df[df['id'] == chapter]['text']\n",
    "    pr_chapter(f'{chapter} - {chapter_heading_ser.iloc[0]}')\n",
    "\n",
    "    # Chapter headings\n",
    "    result_df = df.loc[(df['parent'] == chapter) & (df['aggrLevel'] == 4)][['id', 'text']]\n",
    "    chapter_headings = dict(zip(result_df['id'], result_df['text']))\n",
    "    for key, value in chapter_headings.items():\n",
    "        pr_heading(f'{fmt_headings(key)}: {value}')"
   ]
  },
  {
   "cell_type": "code",
   "execution_count": null,
   "id": "3faea9f0-f038-4eea-afc0-94c0ea61efff",
   "metadata": {},
   "outputs": [],
   "source": [
    "display_chapter_details(chapter='01', df=hs_df)"
   ]
  },
  {
   "cell_type": "code",
   "execution_count": null,
   "id": "a90f38f1-4aee-4a57-ae29-4d213f612359",
   "metadata": {},
   "outputs": [],
   "source": [
    "display_chapter_details(chapter='16', df=hs_df)"
   ]
  },
  {
   "cell_type": "markdown",
   "id": "a8ada63b-0047-483a-a20a-f5f90aeb0db5",
   "metadata": {},
   "source": [
    "## Display Heading and children details"
   ]
  },
  {
   "cell_type": "code",
   "execution_count": null,
   "id": "c9abab5a-727c-486d-9c89-de3a3157e738",
   "metadata": {},
   "outputs": [],
   "source": [
    "def display_heading_details(heading:str, df:pd.DataFrame) -> None:\n",
    "    # Heading HS code + description\n",
    "    heading_ser = df[df['id'] == heading]['text']\n",
    "    pr_heading(f'{heading[:2]}.{heading[2:]} - {heading_ser.iloc[0]}')\n",
    "\n",
    "    # Sub heading details\n",
    "    result_df = df.loc[(df['parent'] == heading) & (df['aggrLevel'] == 6)][['id', 'text']]\n",
    "    sub_headings = dict(zip(result_df['id'], result_df['text']))\n",
    "    for key, value in sub_headings.items():\n",
    "        pr_sub_heading(f'{fmt_sub_headings(key)} - {value}')"
   ]
  },
  {
   "cell_type": "code",
   "execution_count": null,
   "id": "0a1e3583-f082-43b5-8132-950edb6cdc56",
   "metadata": {},
   "outputs": [],
   "source": [
    "display_heading_details(heading='0101', df=hs_df)"
   ]
  },
  {
   "cell_type": "markdown",
   "id": "819b6694-11d4-4718-8a10-64ebb097b1ea",
   "metadata": {},
   "source": [
    "# A Utility method to disply Section hierarchy"
   ]
  },
  {
   "cell_type": "code",
   "execution_count": null,
   "id": "1a0b5af1-febb-456d-a9b4-601b51dd90e5",
   "metadata": {},
   "outputs": [],
   "source": [
    "def display_section_hierarchy(section:str, df: pd.DataFrame) -> None:\n",
    "    chapter_indent = 2 * ' '\n",
    "    heading_indent = 4 * ' '\n",
    "    sub_heading_indent = 6 * ' '\n",
    "    \n",
    "    pos = SECTION_ID.index(section)\n",
    "    # Get the name and emoji\n",
    "    section_name = SECTION_NAME[pos]\n",
    "    section_emoji = SECTION_EMOJI[pos]\n",
    "    pr_section(f'Section {section} - {section_name} {section_emoji}')\n",
    "    \n",
    "    # Dictionary of Chapters\n",
    "    chapters = get_chapters_for_section(section=section, df=df)\n",
    "    for chapter, value in chapters.items():\n",
    "        # Chapter HS code + heading\n",
    "        chapter_heading_ser = df[df['id'] == chapter]['text']\n",
    "        pr_chapter(f'{chapter_indent}{chapter} - {chapter_heading_ser.iloc[0]}')\n",
    "        \n",
    "        # Dictionary of chapter headings\n",
    "        result_df = df.loc[(df['parent'] == chapter) & (df['aggrLevel'] == 4)][['id', 'text']]\n",
    "        chapter_headings = dict(zip(result_df['id'], result_df['text']))\n",
    "        for heading, value in chapter_headings.items():\n",
    "            # Heading HS code + description\n",
    "            heading_ser = df[df['id'] == heading]['text']\n",
    "            pr_heading(f'{heading_indent}{fmt_headings(heading)} - {heading_ser.iloc[0]}')\n",
    "            \n",
    "            # Dictionary of sub headings\n",
    "            result_df = df.loc[(df['parent'] == heading) & (df['aggrLevel'] == 6)][['id', 'text']]\n",
    "            sub_headings = dict(zip(result_df['id'], result_df['text']))\n",
    "            for key, value in sub_headings.items():\n",
    "                pr_sub_heading(f'{sub_heading_indent}{fmt_sub_headings(key)} - {value}')"
   ]
  },
  {
   "cell_type": "code",
   "execution_count": null,
   "id": "9c9337d6-91b0-4d79-9432-671a2fc53508",
   "metadata": {},
   "outputs": [],
   "source": [
    "display_section_hierarchy(section='V', df=hs_df)"
   ]
  },
  {
   "cell_type": "markdown",
   "id": "2f00da46-4151-4d77-a1f8-cf89cf0eb32b",
   "metadata": {},
   "source": [
    "## Display Modules"
   ]
  },
  {
   "cell_type": "code",
   "execution_count": null,
   "id": "2728bd14-ae6f-4740-8477-caea9362229d",
   "metadata": {},
   "outputs": [],
   "source": [
    "from watermark import watermark\n",
    "\n",
    "%load_ext watermark\n",
    "%watermark --iversions"
   ]
  },
  {
   "cell_type": "code",
   "execution_count": null,
   "id": "12079002-9bba-4edd-9ace-fcab9140ca30",
   "metadata": {},
   "outputs": [],
   "source": []
  }
 ],
 "metadata": {
  "kernelspec": {
   "display_name": "Python 3 (ipykernel)",
   "language": "python",
   "name": "python3"
  },
  "language_info": {
   "codemirror_mode": {
    "name": "ipython",
    "version": 3
   },
   "file_extension": ".py",
   "mimetype": "text/x-python",
   "name": "python",
   "nbconvert_exporter": "python",
   "pygments_lexer": "ipython3",
   "version": "3.13.7"
  }
 },
 "nbformat": 4,
 "nbformat_minor": 5
}
